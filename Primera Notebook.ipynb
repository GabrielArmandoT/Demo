{
    "cells": [
        {
            "cell_type": "markdown",
            "metadata": {},
            "source": "# DESCRIPTION\nDatos de covid-19 en Per\u00fa"
        },
        {
            "cell_type": "code",
            "execution_count": 4,
            "metadata": {},
            "outputs": [
                {
                    "name": "stdout",
                    "output_type": "stream",
                    "text": "2\n"
                }
            ],
            "source": "print (1+1)"
        },
        {
            "cell_type": "code",
            "execution_count": 3,
            "metadata": {
                "scrolled": true
            },
            "outputs": [
                {
                    "data": {
                        "text/html": "<div>\n<style scoped>\n    .dataframe tbody tr th:only-of-type {\n        vertical-align: middle;\n    }\n\n    .dataframe tbody tr th {\n        vertical-align: top;\n    }\n\n    .dataframe thead th {\n        text-align: right;\n    }\n</style>\n<table border=\"1\" class=\"dataframe\">\n  <thead>\n    <tr style=\"text-align: right;\">\n      <th></th>\n      <th>MES</th>\n      <th>FECHA</th>\n      <th>D\u00cdA</th>\n      <th>MUESTRAS PCR POSITIVAS</th>\n      <th>MUESTRAS PR POSITIVAS</th>\n      <th>TOTAL CASOS POSITIVOS</th>\n      <th>FALLECIDOS</th>\n      <th>FALL REAL</th>\n      <th>LETALIDAD</th>\n      <th>LET. REAL</th>\n      <th>...</th>\n      <th>Nuevos Fallecidos</th>\n      <th>Nuevas Muestras PCR</th>\n      <th>Nuevas Muestras\nPR</th>\n      <th>Nuevas Muestras Diarias</th>\n      <th>Nuevas PCR\n-</th>\n      <th>Nuevas PR \n-</th>\n      <th>Nuevos No Contagiados Diarios</th>\n      <th>Unnamed: 28</th>\n      <th>Nuevos Contagiados G</th>\n      <th>Total Contagios</th>\n    </tr>\n  </thead>\n  <tbody>\n    <tr>\n      <th>0</th>\n      <td>Marzo</td>\n      <td>2020-03-06</td>\n      <td>NaN</td>\n      <td>NaN</td>\n      <td>NaN</td>\n      <td>NaN</td>\n      <td>NaN</td>\n      <td>NaN</td>\n      <td>NaN</td>\n      <td>NaN</td>\n      <td>...</td>\n      <td>NaN</td>\n      <td>NaN</td>\n      <td>NaN</td>\n      <td>NaN</td>\n      <td>NaN</td>\n      <td>NaN</td>\n      <td>NaN</td>\n      <td>NaN</td>\n      <td>1.0</td>\n      <td>1.0</td>\n    </tr>\n    <tr>\n      <th>1</th>\n      <td>Marzo</td>\n      <td>2020-03-07</td>\n      <td>NaN</td>\n      <td>NaN</td>\n      <td>NaN</td>\n      <td>NaN</td>\n      <td>NaN</td>\n      <td>NaN</td>\n      <td>NaN</td>\n      <td>NaN</td>\n      <td>...</td>\n      <td>NaN</td>\n      <td>NaN</td>\n      <td>NaN</td>\n      <td>NaN</td>\n      <td>NaN</td>\n      <td>NaN</td>\n      <td>NaN</td>\n      <td>NaN</td>\n      <td>5.0</td>\n      <td>6.0</td>\n    </tr>\n    <tr>\n      <th>2</th>\n      <td>Marzo</td>\n      <td>2020-03-08</td>\n      <td>NaN</td>\n      <td>NaN</td>\n      <td>NaN</td>\n      <td>NaN</td>\n      <td>NaN</td>\n      <td>NaN</td>\n      <td>NaN</td>\n      <td>NaN</td>\n      <td>...</td>\n      <td>NaN</td>\n      <td>NaN</td>\n      <td>NaN</td>\n      <td>NaN</td>\n      <td>NaN</td>\n      <td>NaN</td>\n      <td>NaN</td>\n      <td>NaN</td>\n      <td>1.0</td>\n      <td>7.0</td>\n    </tr>\n    <tr>\n      <th>3</th>\n      <td>Marzo</td>\n      <td>2020-03-09</td>\n      <td>NaN</td>\n      <td>NaN</td>\n      <td>NaN</td>\n      <td>NaN</td>\n      <td>NaN</td>\n      <td>NaN</td>\n      <td>NaN</td>\n      <td>NaN</td>\n      <td>...</td>\n      <td>NaN</td>\n      <td>NaN</td>\n      <td>NaN</td>\n      <td>NaN</td>\n      <td>NaN</td>\n      <td>NaN</td>\n      <td>NaN</td>\n      <td>NaN</td>\n      <td>2.0</td>\n      <td>9.0</td>\n    </tr>\n    <tr>\n      <th>4</th>\n      <td>Marzo</td>\n      <td>2020-03-10</td>\n      <td>NaN</td>\n      <td>NaN</td>\n      <td>NaN</td>\n      <td>NaN</td>\n      <td>NaN</td>\n      <td>NaN</td>\n      <td>NaN</td>\n      <td>NaN</td>\n      <td>...</td>\n      <td>NaN</td>\n      <td>NaN</td>\n      <td>NaN</td>\n      <td>NaN</td>\n      <td>NaN</td>\n      <td>NaN</td>\n      <td>NaN</td>\n      <td>NaN</td>\n      <td>2.0</td>\n      <td>11.0</td>\n    </tr>\n  </tbody>\n</table>\n<p>5 rows \u00d7 31 columns</p>\n</div>",
                        "text/plain": "     MES      FECHA  D\u00cdA  MUESTRAS PCR POSITIVAS  MUESTRAS PR POSITIVAS  \\\n0  Marzo 2020-03-06  NaN                     NaN                    NaN   \n1  Marzo 2020-03-07  NaN                     NaN                    NaN   \n2  Marzo 2020-03-08  NaN                     NaN                    NaN   \n3  Marzo 2020-03-09  NaN                     NaN                    NaN   \n4  Marzo 2020-03-10  NaN                     NaN                    NaN   \n\n   TOTAL CASOS POSITIVOS  FALLECIDOS  FALL REAL  LETALIDAD  LET. REAL  ...  \\\n0                    NaN         NaN        NaN        NaN        NaN  ...   \n1                    NaN         NaN        NaN        NaN        NaN  ...   \n2                    NaN         NaN        NaN        NaN        NaN  ...   \n3                    NaN         NaN        NaN        NaN        NaN  ...   \n4                    NaN         NaN        NaN        NaN        NaN  ...   \n\n   Nuevos Fallecidos  Nuevas Muestras PCR  Nuevas Muestras\\nPR   \\\n0                NaN                  NaN                   NaN   \n1                NaN                  NaN                   NaN   \n2                NaN                  NaN                   NaN   \n3                NaN                  NaN                   NaN   \n4                NaN                  NaN                   NaN   \n\n   Nuevas Muestras Diarias  Nuevas PCR\\n-  Nuevas PR \\n-  \\\n0                      NaN            NaN            NaN   \n1                      NaN            NaN            NaN   \n2                      NaN            NaN            NaN   \n3                      NaN            NaN            NaN   \n4                      NaN            NaN            NaN   \n\n   Nuevos No Contagiados Diarios  Unnamed: 28  Nuevos Contagiados G  \\\n0                            NaN          NaN                   1.0   \n1                            NaN          NaN                   5.0   \n2                            NaN          NaN                   1.0   \n3                            NaN          NaN                   2.0   \n4                            NaN          NaN                   2.0   \n\n   Total Contagios  \n0              1.0  \n1              6.0  \n2              7.0  \n3              9.0  \n4             11.0  \n\n[5 rows x 31 columns]"
                    },
                    "execution_count": 3,
                    "metadata": {},
                    "output_type": "execute_result"
                }
            ],
            "source": "# The code was removed by Watson Studio for sharing."
        },
        {
            "cell_type": "code",
            "execution_count": null,
            "metadata": {},
            "outputs": [],
            "source": ""
        }
    ],
    "metadata": {
        "kernelspec": {
            "display_name": "Python 3.6",
            "language": "python",
            "name": "python3"
        },
        "language_info": {
            "codemirror_mode": {
                "name": "ipython",
                "version": 3
            },
            "file_extension": ".py",
            "mimetype": "text/x-python",
            "name": "python",
            "nbconvert_exporter": "python",
            "pygments_lexer": "ipython3",
            "version": "3.6.9"
        }
    },
    "nbformat": 4,
    "nbformat_minor": 1
}